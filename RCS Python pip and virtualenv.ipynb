{
 "cells": [
  {
   "cell_type": "markdown",
   "metadata": {},
   "source": [
    "<center><h1> Python Enviroment, PIP and Virtualenv</h1></center>"
   ]
  },
  {
   "cell_type": "markdown",
   "metadata": {},
   "source": [
    "\n",
    "![Python Path](https://imgs.xkcd.com/comics/python_environment.png)"
   ]
  },
  {
   "cell_type": "markdown",
   "metadata": {},
   "source": [
    "[XKCD Python Enviroment Explained](https://www.explainxkcd.com/wiki/index.php/1987:_Python_Environment)"
   ]
  },
  {
   "cell_type": "markdown",
   "metadata": {},
   "source": [
    "\n",
    "<table class=\"wikitable\">\n",
    "<tbody><tr>\n",
    "<th> Text\n",
    "</th>\n",
    "<th> Explanation\n",
    "</th></tr>\n",
    "<tr>\n",
    "<td> PATH</td>\n",
    "<td> PATH refers to the <a href=\"http://en.wikipedia.org/wiki/PATH_(variable)\" class=\"extiw\" title=\"wikipedia:PATH (variable)\">PATH</a> environment variable, which determines where to search for executable files. In this case, it indicates that the pip, Homebrew Python (2.7), and OSX's pre-installed Python are accessible on path, with ~/newenv/ and a mysterious&nbsp;???? as part of PATH.\n",
    "</td></tr>\n",
    "<tr>\n",
    "<td> pip\n",
    "</td>\n",
    "<td> <a href=\"http://en.wikipedia.org/wiki/pip_(package_manager)\" class=\"extiw\" title=\"wikipedia:pip (package manager)\">pip</a> is the Python <a href=\"http://en.wikipedia.org/wiki/package_management_system\" class=\"extiw\" title=\"wikipedia:package management system\">package management system</a>, and is used to install and manage python packages. As it is written in Python, it requires Python to run. It leads to easy_install, Homebrew Python (2.7), \"(misc folders owned by root)\", and&nbsp;????.\n",
    "</td></tr>\n",
    "<tr>\n",
    "<td> Homebrew Python (2.7)\n",
    "</td>\n",
    "<td> <a href=\"http://en.wikipedia.org/wiki/Homebrew_(package_management_software)\" class=\"extiw\" title=\"wikipedia:Homebrew (package management software)\">Homebrew</a> is the de facto standard third-party OSX package manager. Homebrew Python (2.7) is the Python 2 version installed through Homebrew. This leads to Python.org binary (2.6) and /usr/local/Cellar.\n",
    "</td></tr>\n",
    "<tr>\n",
    "<td> OS Python\n",
    "</td>\n",
    "<td> Apple bundles an (out of date) version of Python with OSX. This only leads to&nbsp;????.\n",
    "</td></tr>\n",
    "<tr>\n",
    "<td>&nbsp;????\n",
    "</td>\n",
    "<td>\n",
    "</td></tr>\n",
    "<tr>\n",
    "<td> easy_install\n",
    "</td>\n",
    "<td> easy_install, much like pip, is a cpan-like tool to download and install Python packages.  As of the creation of the comic, many people discourage its use.  (e.g., <a rel=\"nofollow\" class=\"external text\" href=\"https://stackoverflow.com/questions/3220404/why-use-pip-over-easy-install\">this question on stack exchange.</a>\n",
    "</td></tr>\n",
    "<tr>\n",
    "<td> Anaconda Python\n",
    "</td>\n",
    "<td> <a href=\"http://en.wikipedia.org/wiki/Anaconda_(Python_distribution)\" class=\"extiw\" title=\"wikipedia:Anaconda (Python distribution)\">Anaconda</a> is a Python distribution for data science and machine learning related applications.\n",
    "</td></tr>\n",
    "<tr>\n",
    "<td> Homebrew Python (3.6)\n",
    "</td>\n",
    "<td> As of the creation of the comic, Python 3.6 is the current stable version of Python.\n",
    "</td></tr>\n",
    "<tr>\n",
    "<td> Python.org binary (2.6)\n",
    "</td>\n",
    "<td>\n",
    "</td></tr>\n",
    "<tr>\n",
    "<td> (Misc folders owned by root)\n",
    "</td>\n",
    "<td>\n",
    "</td></tr>\n",
    "<tr>\n",
    "<td> /usr/local/Cellar\n",
    "</td>\n",
    "<td>\n",
    "</td></tr>\n",
    "<tr>\n",
    "<td> <code>/usr/local/opt</code>\n",
    "</td>\n",
    "<td> Both <code>/usr/local</code> and <code>/opt</code> are directories that store files that do not belong to a Unix-like operating system. Usually, files in <code>/usr/local</code> were created with a <a href=\"http://en.wikipedia.org/wiki/make_(software)\" class=\"extiw\" title=\"wikipedia:make (software)\">make command</a>, and files in <code>/opt</code> are unbundled packages. The joke is that <code>/usr/local/opt</code> should really, really not exist.\n",
    "</td></tr>\n",
    "<tr>\n",
    "<td> /(A bunch of items with \"Frameworks\" in them somewhere)/\n",
    "</td>\n",
    "<td>\n",
    "</td></tr>\n",
    "<tr>\n",
    "<td> $PYTHONPATH\n",
    "</td>\n",
    "<td>\n",
    "</td></tr>\n",
    "<tr>\n",
    "<td> Another pip??\n",
    "</td>\n",
    "<td> There should only be one PIP (package management system) in place. More that one would lead to them contradicting each other. Randall is confused as to how the second one got there.\n",
    "</td></tr>\n",
    "<tr>\n",
    "<td> ~/python/\n",
    "</td>\n",
    "<td>\n",
    "</td></tr>\n",
    "<tr>\n",
    "<td> ~/newenv/\n",
    "</td>\n",
    "<td> Probably a virtualenv.  Virtualenvs are mechanisms for having Python environments that don't conflict with the system Python.  They include the Python interpreter, independent library paths, and usually a copy of pip.  The user typically installs packages using the virtualenv's pip such that they can only be accessed by the virtualenv's Python instances, while more common packages are still referenced via the system Python paths.\n",
    "</td></tr>\n",
    "<tr>\n",
    "<td> /usr/local/lib/python3.6\n",
    "</td>\n",
    "<td>\n",
    "</td></tr>\n",
    "<tr>\n",
    "<td> /usr/local/lib/python2.7\n",
    "</td>\n",
    "<td>\n",
    "</td></tr></tbody></table>"
   ]
  },
  {
   "cell_type": "code",
   "execution_count": 4,
   "metadata": {},
   "outputs": [
    {
     "name": "stdout",
     "output_type": "stream",
     "text": [
      "C:\\ProgramData\\Anaconda3;C:\\ProgramData\\Anaconda3\\Library\\mingw-w64\\bin;C:\\ProgramData\\Anaconda3\\Library\\usr\\bin;C:\\ProgramData\\Anaconda3\\Library\\bin;C:\\ProgramData\\Anaconda3\\Scripts;C:\\ProgramData\\Anaconda3;C:\\ProgramData\\Anaconda3\\Library\\mingw-w64\\bin;C:\\ProgramData\\Anaconda3\\Library\\usr\\bin;C:\\ProgramData\\Anaconda3\\Library\\bin;C:\\ProgramData\\Anaconda3\\Scripts;C:\\Program Files (x86)\\Python36-32\\Scripts\\;C:\\Program Files (x86)\\Python36-32\\;C:\\ProgramData\\Oracle\\Java\\javapath;C:\\Windows\\system32;C:\\Windows;C:\\Windows\\System32\\Wbem;C:\\Windows\\System32\\WindowsPowerShell\\v1.0\\;C:\\Program Files\\Intel\\WiFi\\bin\\;C:\\Program Files\\Common Files\\Intel\\WirelessCommon\\;C:\\Program Files\\PuTTY\\;C:\\Program Files\\Git\\cmd;C:\\Program Files\\nodejs\\;C:\\Program Files\\Intel\\WiFi\\bin\\;C:\\Program Files\\Common Files\\Intel\\WirelessCommon\\;C:\\Program Files\\Microsoft VS Code\\bin;C:\\Users\\vdell\\AppData\\Roaming\\npm\n"
     ]
    }
   ],
   "source": [
    "# Windows Path\n",
    "! echo %PATH%"
   ]
  },
  {
   "cell_type": "code",
   "execution_count": 7,
   "metadata": {},
   "outputs": [
    {
     "name": "stdout",
     "output_type": "stream",
     "text": [
      "$PATH\n"
     ]
    }
   ],
   "source": [
    "# Linux (and should be MacOS) too path\n",
    "! echo $PATH"
   ]
  },
  {
   "cell_type": "code",
   "execution_count": null,
   "metadata": {},
   "outputs": [],
   "source": []
  },
  {
   "cell_type": "code",
   "execution_count": 5,
   "metadata": {},
   "outputs": [
    {
     "name": "stderr",
     "output_type": "stream",
     "text": [
      "Python 3.6.4 :: Anaconda, Inc.\n"
     ]
    }
   ],
   "source": [
    "#Ensure you can run Python from the command line\n",
    "#Before you go any further, make sure you have Python and that the expected version is available from your command line. You can check this by running:\n",
    "\n",
    "# python --version"
   ]
  },
  {
   "cell_type": "code",
   "execution_count": 4,
   "metadata": {},
   "outputs": [
    {
     "name": "stderr",
     "output_type": "stream",
     "text": [
      "Python 3.6.4 :: Anaconda, Inc.\n"
     ]
    }
   ],
   "source": [
    "! python --version"
   ]
  },
  {
   "cell_type": "code",
   "execution_count": 3,
   "metadata": {},
   "outputs": [
    {
     "name": "stdout",
     "output_type": "stream",
     "text": [
      "pip 9.0.1 from C:\\ProgramData\\Anaconda3\\lib\\site-packages (python 3.6)\n",
      "\n"
     ]
    }
   ],
   "source": [
    "! pip --version\n",
    "#on command line you omit !"
   ]
  },
  {
   "cell_type": "code",
   "execution_count": 5,
   "metadata": {},
   "outputs": [
    {
     "name": "stdout",
     "output_type": "stream",
     "text": [
      "Requirement already satisfied: setuptools in c:\\programdata\\anaconda3\\lib\\site-packages\n",
      "Requirement already satisfied: pip in c:\\programdata\\anaconda3\\lib\\site-packages\n"
     ]
    }
   ],
   "source": [
    "# If pip isn’t already installed, then first try to bootstrap it from the standard library:\n",
    "! python -m ensurepip --default-pip"
   ]
  },
  {
   "cell_type": "markdown",
   "metadata": {},
   "source": [
    "### Listing what we have already installed via pip"
   ]
  },
  {
   "cell_type": "code",
   "execution_count": 6,
   "metadata": {},
   "outputs": [
    {
     "name": "stdout",
     "output_type": "stream",
     "text": [
      "alabaster (0.7.10)\n",
      "anaconda-client (1.6.9)\n",
      "anaconda-navigator (1.7.0)\n",
      "anaconda-project (0.8.2)\n",
      "asn1crypto (0.24.0)\n",
      "astroid (1.6.1)\n",
      "astropy (2.0.3)\n",
      "attrs (17.4.0)\n",
      "Babel (2.5.3)\n",
      "backports.shutil-get-terminal-size (1.0.0)\n",
      "beautifulsoup4 (4.6.0)\n",
      "bitarray (0.8.1)\n",
      "bkcharts (0.2)\n",
      "blaze (0.11.3)\n",
      "bleach (2.1.2)\n",
      "bokeh (0.12.13)\n",
      "boto (2.48.0)\n",
      "Bottleneck (1.2.1)\n",
      "certifi (2018.1.18)\n",
      "cffi (1.11.4)\n",
      "chardet (3.0.4)\n",
      "click (6.7)\n",
      "cloudpickle (0.5.2)\n",
      "clyent (1.2.2)\n",
      "colorama (0.3.9)\n",
      "comtypes (1.1.4)\n",
      "conda (4.4.10)\n",
      "conda-build (3.4.1)\n",
      "conda-verify (2.0.0)\n",
      "contextlib2 (0.5.5)\n",
      "cryptography (2.1.4)\n",
      "cycler (0.10.0)\n",
      "Cython (0.27.3)\n",
      "cytoolz (0.9.0)\n",
      "dask (0.16.1)\n",
      "datashape (0.5.4)\n",
      "decorator (4.2.1)\n",
      "distributed (1.20.2)\n",
      "docutils (0.14)\n",
      "entrypoints (0.2.3)\n",
      "et-xmlfile (1.0.1)\n",
      "fastcache (1.0.2)\n",
      "filelock (2.0.13)\n",
      "Flask (0.12.2)\n",
      "Flask-Cors (3.0.3)\n",
      "gevent (1.2.2)\n",
      "glob2 (0.6)\n",
      "greenlet (0.4.12)\n",
      "h5py (2.7.1)\n",
      "heapdict (1.0.0)\n",
      "html5lib (1.0.1)\n",
      "idna (2.6)\n",
      "imageio (2.2.0)\n",
      "imagesize (0.7.1)\n",
      "ipython (6.2.1)\n",
      "ipython-genutils (0.2.0)\n",
      "ipywidgets (7.1.1)\n",
      "isort (4.2.15)\n",
      "itsdangerous (0.24)\n",
      "jdcal (1.3)\n",
      "jedi (0.11.1)\n",
      "Jinja2 (2.10)\n",
      "jsonschema (2.6.0)\n",
      "jupyter (1.0.0)\n",
      "jupyter-client (5.2.2)\n",
      "jupyter-console (5.2.0)\n",
      "jupyter-core (4.4.0)\n",
      "jupyterlab (0.31.4)\n",
      "jupyterlab-launcher (0.10.2)\n",
      "lazy-object-proxy (1.3.1)\n",
      "llvmlite (0.21.0)\n",
      "locket (0.2.0)\n",
      "lxml (4.1.1)\n",
      "MarkupSafe (1.0)\n",
      "matplotlib (2.1.2)\n",
      "mccabe (0.6.1)\n",
      "menuinst (1.4.11)\n",
      "mistune (0.8.3)\n",
      "mpmath (1.0.0)\n",
      "msgpack-python (0.5.1)\n",
      "multipledispatch (0.4.9)\n",
      "navigator-updater (0.1.0)\n",
      "nbconvert (5.3.1)\n",
      "nbformat (4.4.0)\n",
      "networkx (2.1)\n",
      "nltk (3.2.5)\n",
      "nose (1.3.7)\n",
      "notebook (5.4.0)\n",
      "numba (0.36.2)\n",
      "numexpr (2.6.4)\n",
      "numpy (1.14.0)\n",
      "numpydoc (0.7.0)\n",
      "odo (0.5.1)\n",
      "olefile (0.45.1)\n",
      "openpyxl (2.4.10)\n",
      "packaging (16.8)\n",
      "pandas (0.22.0)\n",
      "pandocfilters (1.4.2)\n",
      "parso (0.1.1)\n",
      "partd (0.3.8)\n",
      "path.py (10.5)\n",
      "pathlib2 (2.3.0)\n",
      "patsy (0.5.0)\n",
      "pep8 (1.7.1)\n",
      "pickleshare (0.7.4)\n",
      "Pillow (5.0.0)\n",
      "pip (9.0.1)\n",
      "pkginfo (1.4.1)\n",
      "pluggy (0.6.0)\n",
      "ply (3.10)\n",
      "prompt-toolkit (1.0.15)\n",
      "psutil (5.4.3)\n",
      "py (1.5.2)\n",
      "pycodestyle (2.3.1)\n",
      "pycosat (0.6.3)\n",
      "pycparser (2.18)\n",
      "pycrypto (2.6.1)\n",
      "pycurl (7.43.0.1)\n",
      "pyflakes (1.6.0)\n",
      "Pygments (2.2.0)\n",
      "pylint (1.8.2)\n",
      "pyodbc (4.0.22)\n",
      "pyOpenSSL (17.5.0)\n",
      "pyparsing (2.2.0)\n",
      "PySocks (1.6.7)\n",
      "pytest (3.3.2)\n",
      "python-dateutil (2.6.1)\n",
      "pytz (2017.3)\n",
      "PyWavelets (0.5.2)\n",
      "pywin32 (222)\n",
      "pywinpty (0.5)\n",
      "PyYAML (3.12)\n",
      "pyzmq (16.0.3)\n",
      "QtAwesome (0.4.4)\n",
      "qtconsole (4.3.1)\n",
      "QtPy (1.3.1)\n",
      "requests (2.18.4)\n",
      "rope (0.10.7)\n",
      "ruamel-yaml (0.15.35)\n",
      "scikit-image (0.13.1)\n",
      "scikit-learn (0.19.1)\n",
      "scipy (1.0.0)\n",
      "seaborn (0.8.1)\n",
      "Send2Trash (1.4.2)\n",
      "setuptools (38.4.0)\n",
      "simplegeneric (0.8.1)\n",
      "singledispatch (3.4.0.3)\n",
      "six (1.11.0)\n",
      "snowballstemmer (1.2.1)\n",
      "sortedcollections (0.5.3)\n",
      "sortedcontainers (1.5.9)\n",
      "Sphinx (1.6.6)\n",
      "sphinxcontrib-websupport (1.0.1)\n",
      "spyder (3.2.6)\n",
      "SQLAlchemy (1.2.1)\n",
      "statsmodels (0.8.0)\n",
      "sympy (1.1.1)\n",
      "tables (3.4.2)\n",
      "tblib (1.3.2)\n",
      "terminado (0.8.1)\n",
      "testpath (0.3.1)\n",
      "toolz (0.9.0)\n",
      "tornado (4.5.3)\n",
      "traitlets (4.3.2)\n",
      "typing (3.6.2)\n",
      "unicodecsv (0.14.1)\n",
      "urllib3 (1.22)\n",
      "wcwidth (0.1.7)\n",
      "webencodings (0.5.1)\n",
      "Werkzeug (0.14.1)\n",
      "wheel (0.30.0)\n",
      "widgetsnbextension (3.1.0)\n",
      "win-inet-pton (1.0.1)\n",
      "win-unicode-console (0.5)\n",
      "wincertstore (0.2)\n",
      "wrapt (1.10.11)\n",
      "xlrd (1.1.0)\n",
      "XlsxWriter (1.0.2)\n",
      "xlwings (0.11.5)\n",
      "xlwt (1.3.0)\n",
      "zict (0.1.3)\n"
     ]
    },
    {
     "name": "stderr",
     "output_type": "stream",
     "text": [
      "DEPRECATION: The default format will switch to columns in the future. You can use --format=(legacy|columns) (or define a format=(legacy|columns) in your pip.conf under the [list] section) to disable this warning.\n",
      "You are using pip version 9.0.1, however version 10.0.1 is available.\n",
      "You should consider upgrading via the 'python -m pip install --upgrade pip' command.\n"
     ]
    }
   ],
   "source": [
    "! pip list"
   ]
  },
  {
   "cell_type": "code",
   "execution_count": null,
   "metadata": {},
   "outputs": [],
   "source": []
  },
  {
   "cell_type": "markdown",
   "metadata": {},
   "source": [
    "## Creating Virtual Environments\n",
    "Python “Virtual Environments” allow Python packages to be installed in an isolated location for a particular application, rather than being installed globally."
   ]
  },
  {
   "cell_type": "code",
   "execution_count": null,
   "metadata": {},
   "outputs": [],
   "source": [
    "# on a typical Linux system:"
   ]
  },
  {
   "cell_type": "code",
   "execution_count": null,
   "metadata": {},
   "outputs": [],
   "source": [
    "python3 -m venv tutorial_env\n",
    "source tutorial_env/bin/activate"
   ]
  },
  {
   "cell_type": "code",
   "execution_count": null,
   "metadata": {},
   "outputs": [],
   "source": [
    "The basic usage is like so:\n",
    "\n",
    "Using virtualenv:\n",
    "\n",
    "virtualenv <DIR>\n",
    "source <DIR>/bin/activate\n",
    "Using venv:\n",
    "\n",
    "python3 -m venv <DIR>\n",
    "source <DIR>/bin/activate\n",
    "For more information, see the virtualenv docs or the venv docs.\n",
    "\n",
    "Managing multiple virtual environments directly can become tedious, so the dependency management tutorial introduces a higher level tool, Pipenv, that automatically manages a separate virtual environment for each project and application that you work on."
   ]
  },
  {
   "cell_type": "code",
   "execution_count": null,
   "metadata": {},
   "outputs": [],
   "source": [
    "To install the latest version of “SomeProject”:\n",
    "\n",
    "pip install 'SomeProject'\n",
    "To install a specific version:\n",
    "\n",
    "pip install 'SomeProject==1.4'"
   ]
  },
  {
   "cell_type": "code",
   "execution_count": null,
   "metadata": {},
   "outputs": [],
   "source": [
    "Upgrading packages\n",
    "Upgrade an already installed SomeProject to the latest from PyPI.\n",
    "\n",
    "pip install --upgrade SomeProject"
   ]
  },
  {
   "cell_type": "code",
   "execution_count": null,
   "metadata": {},
   "outputs": [],
   "source": [
    "Requirements files\n",
    "Install a list of requirements specified in a Requirements File.\n",
    "\n",
    "pip install -r requirements.txt"
   ]
  },
  {
   "cell_type": "code",
   "execution_count": null,
   "metadata": {},
   "outputs": [],
   "source": [
    "Installing from VCS\n",
    "Install a project from VCS in “editable” mode. For a full breakdown of the syntax, see pip’s section on VCS Support.\n",
    "\n",
    "pip install -e git+https://git.repo/some_pkg.git#egg=SomeProject          # from git\n",
    "pip install -e hg+https://hg.repo/some_pkg#egg=SomeProject                # from mercurial\n",
    "pip install -e svn+svn://svn.repo/some_pkg/trunk/#egg=SomeProject         # from svn\n",
    "pip install -e git+https://git.repo/some_pkg.git@feature#egg=SomeProject  # from a branch"
   ]
  },
  {
   "cell_type": "code",
   "execution_count": null,
   "metadata": {},
   "outputs": [],
   "source": [
    "Common uses of Requirements files:\n",
    "\n",
    "1. Requirements files are used to hold the result from pip freeze for the purpose of achieving repeatable installations. In this case, your requirement file contains a pinned version of everything that was installed when pip freeze was run.\n",
    "\n",
    "pip freeze > requirements.txt\n",
    "pip install -r requirements.txt"
   ]
  },
  {
   "cell_type": "markdown",
   "metadata": {},
   "source": [
    "### Logically, a Requirements file is just a list of pip install arguments placed in a file. Note that you should not rely on the items in the file being installed by pip in any particular order!"
   ]
  },
  {
   "cell_type": "code",
   "execution_count": null,
   "metadata": {},
   "outputs": [],
   "source": []
  },
  {
   "cell_type": "code",
   "execution_count": null,
   "metadata": {},
   "outputs": [],
   "source": [
    "Uninstalling Packages\n",
    "pip is able to uninstall most packages like so:\n",
    "\n",
    "$ pip uninstall SomePackage\n"
   ]
  }
 ],
 "metadata": {
  "kernelspec": {
   "display_name": "Python 3",
   "language": "python",
   "name": "python3"
  },
  "language_info": {
   "codemirror_mode": {
    "name": "ipython",
    "version": 3
   },
   "file_extension": ".py",
   "mimetype": "text/x-python",
   "name": "python",
   "nbconvert_exporter": "python",
   "pygments_lexer": "ipython3",
   "version": "3.6.4"
  }
 },
 "nbformat": 4,
 "nbformat_minor": 2
}
