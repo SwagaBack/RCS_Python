{
 "cells": [
  {
   "cell_type": "code",
   "execution_count": null,
   "metadata": {},
   "outputs": [],
   "source": [
    "print('''\n",
    " ==========\n",
    " |        |\n",
    " o        | \n",
    "/|\\\\      |\n",
    "/ \\\\      |       ''')"
   ]
  },
  {
   "cell_type": "code",
   "execution_count": null,
   "metadata": {},
   "outputs": [],
   "source": [
    "a = '''\n",
    " ==========\n",
    " |        |\n",
    " o        | \n",
    "/|\\\\       |\n",
    "/ \\\\       | \n",
    "          |'''"
   ]
  },
  {
   "cell_type": "code",
   "execution_count": null,
   "metadata": {},
   "outputs": [],
   "source": [
    "b = '''\n",
    " ==========\n",
    " |        |\n",
    " o        | \n",
    "/|\\\\       |\n",
    "/         | \n",
    "          |'''\n",
    "print(b)"
   ]
  },
  {
   "cell_type": "code",
   "execution_count": null,
   "metadata": {
    "scrolled": true
   },
   "outputs": [],
   "source": [
    "c = '''\n",
    " ==========\n",
    " |        |\n",
    " o        | \n",
    "/|\\\\       |\n",
    "          | \n",
    "          |'''\n",
    "print(c)"
   ]
  },
  {
   "cell_type": "code",
   "execution_count": null,
   "metadata": {},
   "outputs": [],
   "source": [
    "d = '''\n",
    " ==========\n",
    " |        |\n",
    " o        | \n",
    "/|        |\n",
    "          | \n",
    "          |'''\n",
    "print(d)"
   ]
  },
  {
   "cell_type": "code",
   "execution_count": null,
   "metadata": {},
   "outputs": [],
   "source": [
    "e ='''\n",
    " ==========\n",
    " |        |\n",
    " o        | \n",
    " |        |\n",
    "          | \n",
    "          |'''\n",
    "print(e)"
   ]
  },
  {
   "cell_type": "code",
   "execution_count": null,
   "metadata": {},
   "outputs": [],
   "source": [
    "f ='''\n",
    " ==========\n",
    " |        |\n",
    " o        | \n",
    "          |\n",
    "          | \n",
    "          |'''\n",
    "print(f)"
   ]
  },
  {
   "cell_type": "code",
   "execution_count": null,
   "metadata": {},
   "outputs": [],
   "source": [
    "g = '''\n",
    " ==========\n",
    " |        |\n",
    "          | \n",
    "          |\n",
    "          | \n",
    "          |'''\n",
    "print(g)"
   ]
  },
  {
   "cell_type": "code",
   "execution_count": null,
   "metadata": {},
   "outputs": [],
   "source": [
    "hangman = ['''\n",
    " ==========\n",
    " |        |\n",
    "          | \n",
    "          |\n",
    "          | \n",
    "          |''','''\n",
    " ==========\n",
    " |        |\n",
    " o        | \n",
    "          |\n",
    "          | \n",
    "          |''','''\n",
    " ==========\n",
    " |        |\n",
    " o        | \n",
    " |        |\n",
    "          | \n",
    "          |''','''\n",
    " ==========\n",
    " |        |\n",
    " o        | \n",
    "/|        |\n",
    "          | \n",
    "          |''','''\n",
    " ==========\n",
    " |        |\n",
    " o        | \n",
    "/|\\\\       |\n",
    "          | \n",
    "          |''','''\n",
    " ==========\n",
    " |        |\n",
    " o        | \n",
    "/|\\\\       |\n",
    "/         | \n",
    "          |''','''\n",
    " ==========\n",
    " |        |\n",
    " o        | \n",
    "/|\\\\       |\n",
    "/ \\\\       | \n",
    "          |'''\n",
    "]\n"
   ]
  },
  {
   "cell_type": "code",
   "execution_count": null,
   "metadata": {},
   "outputs": [],
   "source": []
  },
  {
   "cell_type": "code",
   "execution_count": null,
   "metadata": {},
   "outputs": [],
   "source": [
    "for man in hangman:\n",
    "    print(man)"
   ]
  },
  {
   "cell_type": "code",
   "execution_count": null,
   "metadata": {},
   "outputs": [],
   "source": [
    "import random"
   ]
  },
  {
   "cell_type": "code",
   "execution_count": null,
   "metadata": {},
   "outputs": [],
   "source": [
    "for x in range(20):\n",
    "    print(mylist[random.randint(0,4)])"
   ]
  },
  {
   "cell_type": "code",
   "execution_count": null,
   "metadata": {},
   "outputs": [],
   "source": [
    "mylist=['peteris','martins','andis','gustavs','valdis']"
   ]
  },
  {
   "cell_type": "code",
   "execution_count": null,
   "metadata": {},
   "outputs": [],
   "source": [
    "len(mylist)"
   ]
  },
  {
   "cell_type": "code",
   "execution_count": null,
   "metadata": {},
   "outputs": [],
   "source": [
    "mylist[1]"
   ]
  },
  {
   "cell_type": "code",
   "execution_count": null,
   "metadata": {},
   "outputs": [],
   "source": [
    "'-'*15"
   ]
  },
  {
   "cell_type": "code",
   "execution_count": null,
   "metadata": {},
   "outputs": [],
   "source": [
    "with open('resources/words.txt') as f:\n",
    "    words=f.read().split()"
   ]
  },
  {
   "cell_type": "code",
   "execution_count": null,
   "metadata": {},
   "outputs": [],
   "source": [
    "len(words)"
   ]
  },
  {
   "cell_type": "code",
   "execution_count": null,
   "metadata": {},
   "outputs": [],
   "source": [
    "words[0]"
   ]
  },
  {
   "cell_type": "code",
   "execution_count": 3,
   "metadata": {},
   "outputs": [],
   "source": [
    "import random\n",
    "\n",
    "with open('resources/words.txt') as f:\n",
    "    words=f.read().split()\n",
    "\n",
    "hangman = ['''\n",
    " ==========\n",
    " |        |\n",
    "          | \n",
    "          |\n",
    "          | \n",
    "          |''','''\n",
    " ==========\n",
    " |        |\n",
    " o        | \n",
    "          |\n",
    "          | \n",
    "          |''','''\n",
    " ==========\n",
    " |        |\n",
    " o        | \n",
    " |        |\n",
    "          | \n",
    "          |''','''\n",
    " ==========\n",
    " |        |\n",
    " o        | \n",
    "/|        |\n",
    "          | \n",
    "          |''','''\n",
    " ==========\n",
    " |        |\n",
    " o        | \n",
    "/|\\\\       |\n",
    "          | \n",
    "          |''','''\n",
    " ==========\n",
    " |        |\n",
    " o        | \n",
    "/|\\\\       |\n",
    "/         | \n",
    "          |''','''\n",
    " ==========\n",
    " |        |\n",
    " o        | \n",
    "/|\\\\       |\n",
    "/ \\\\       | \n",
    "          |'''\n",
    "]\n",
    "\n",
    "def hgame(wlist,hanganim):\n",
    "    guesses=0\n",
    "    fails=0\n",
    "    secret=wlist[random.randint(0,len(wlist)-1)]\n",
    "    myguess = '*'*len(secret)\n",
    "    print('Your secret word',myguess)\n",
    "    #print(\"mysecretis\",secret)\n",
    "    print(hanganim[fails])\n",
    "    while myguess != secret:\n",
    "        char=input(\"Enter character\")\n",
    "        if len(char)== 0:\n",
    "            continue\n",
    "        char=char[0]\n",
    "        if char not in secret:\n",
    "            print(\"Yuo chose badly\")\n",
    "            fails+=1\n",
    "            print(hanganim[fails])\n",
    "            if (fails >= len(hanganim) -1 ):\n",
    "                print('YOu dead man!')\n",
    "                return\n",
    "        else:\n",
    "            myguesslst = list(myguess)\n",
    "            for n,c in enumerate(secret):      \n",
    "                if c == char:\n",
    "                    myguesslst[n]=char\n",
    "            myguess=''.join(myguesslst)\n",
    "            print('Your word is:', myguess)\n",
    "    print(\"You won!!!\")\n",
    "        \n",
    "\n",
    "                 \n",
    "    "
   ]
  },
  {
   "cell_type": "code",
   "execution_count": 5,
   "metadata": {},
   "outputs": [
    {
     "name": "stdout",
     "output_type": "stream",
     "text": [
      "Your secret word ********\n",
      "\n",
      " ==========\n",
      " |        |\n",
      "          | \n",
      "          |\n",
      "          | \n",
      "          |\n",
      "Enter charactera\n",
      "Your word is: **a*****\n",
      "Enter charactere\n",
      "Yuo chose badly\n",
      "\n",
      " ==========\n",
      " |        |\n",
      " o        | \n",
      "          |\n",
      "          | \n",
      "          |\n",
      "Enter characters\n",
      "Yuo chose badly\n",
      "\n",
      " ==========\n",
      " |        |\n",
      " o        | \n",
      " |        |\n",
      "          | \n",
      "          |\n",
      "Enter charactert\n",
      "Your word is: t*a*****\n",
      "Enter character\n",
      "Enter character\n",
      "Enter character\n",
      "Enter character\n",
      "Enter character\n",
      "Enter characterr\n",
      "Your word is: tra*****\n",
      "Enter charactern\n",
      "Your word is: tra*n*n*\n",
      "Enter characteri\n",
      "Your word is: trainin*\n",
      "Enter characterg\n",
      "Your word is: training\n",
      "You won!!!\n"
     ]
    }
   ],
   "source": [
    "hgame(words,hangman)"
   ]
  }
 ],
 "metadata": {
  "kernelspec": {
   "display_name": "Python 3",
   "language": "python",
   "name": "python3"
  },
  "language_info": {
   "codemirror_mode": {
    "name": "ipython",
    "version": 3
   },
   "file_extension": ".py",
   "mimetype": "text/x-python",
   "name": "python",
   "nbconvert_exporter": "python",
   "pygments_lexer": "ipython3",
   "version": "3.6.4"
  }
 },
 "nbformat": 4,
 "nbformat_minor": 2
}
